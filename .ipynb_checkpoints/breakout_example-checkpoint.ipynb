{
 "cells": [
  {
   "cell_type": "code",
   "execution_count": 1,
   "metadata": {},
   "outputs": [],
   "source": [
    "from memory import MemoryBuffer\n",
    "from policies import PPOTrainer\n",
    "import tensorflow as tf\n",
    "from tensorflow.layers import dense, conv2d, max_pooling2d, flatten\n",
    "from env_control import EnvController\n",
    "import numpy as np\n",
    "from utils import preprocess_atari\n",
    "import time\n",
    "import gym"
   ]
  },
  {
   "cell_type": "code",
   "execution_count": 2,
   "metadata": {},
   "outputs": [
    {
     "name": "stderr",
     "output_type": "stream",
     "text": [
      "/home/ejmejm/anaconda3/lib/python3.6/site-packages/gym/envs/registration.py:14: PkgResourcesDeprecationWarning: Parameters to load are deprecated.  Call .resolve and .require separately.\n",
      "  result = entry_point.load(False)\n"
     ]
    },
    {
     "name": "stdout",
     "output_type": "stream",
     "text": [
      "INFO:tensorflow:Restoring parameters from models/breakout.ckpt\n"
     ]
    }
   ],
   "source": [
    "# Pacman network\n",
    "\n",
    "model_name = 'breakout'\n",
    "env = gym.make('Breakout-v0')\n",
    "in_shape = [64, 64, 1]\n",
    "\n",
    "obs = tf.placeholder(tf.float32, shape=[None]+in_shape)\n",
    "conv1 = conv2d(obs, 8, 3, activation=tf.tanh)\n",
    "pool2 = max_pooling2d(conv1, 2, 2)\n",
    "conv2 = conv2d(pool2, 8, 3, activation=tf.tanh)\n",
    "pool3 = max_pooling2d(conv2, 2, 2)\n",
    "conv3 = conv2d(pool3, 8, 3, activation=tf.tanh)\n",
    "flattened = flatten(conv3)\n",
    "act_probs = dense(flattened, env.action_space.n)\n",
    "softmax_probs = tf.nn.softmax(act_probs)\n",
    "\n",
    "# v_conv1 = conv2d(obs, 16, 3, activation=tf.tanh)\n",
    "# v_pool2 = max_pooling2d(v_conv1, 2, 2)\n",
    "# v_conv2 = conv2d(v_pool2, 16, 3, activation=tf.tanh)\n",
    "# v_pool3 = max_pooling2d(v_conv2, 2, 2)\n",
    "# v_conv3 = conv2d(v_pool3, 16, 3, activation=tf.tanh)\n",
    "# v_flattened = flatten(v_conv3)\n",
    "value = dense(flattened, 1)\n",
    "\n",
    "network = PPOTrainer(obs, softmax_probs, value, act_type='d', ppo_iters=80)\n",
    "\n",
    "# Load network if previously saved\n",
    "saver = tf.train.Saver()\n",
    "try:\n",
    "    saver.restore(network.sess, f'models/{model_name}.ckpt')\n",
    "except:\n",
    "    print('No model found, randomly initializing parameters')"
   ]
  },
  {
   "cell_type": "code",
   "execution_count": 3,
   "metadata": {},
   "outputs": [
    {
     "name": "stdout",
     "output_type": "stream",
     "text": [
      "16325\n"
     ]
    }
   ],
   "source": [
    "total_parameters = 0\n",
    "for variable in tf.trainable_variables():\n",
    "    # shape is an array of tf.Dimension\n",
    "    shape = variable.get_shape()\n",
    "    variable_parameters = 1\n",
    "    for dim in shape:\n",
    "        variable_parameters *= dim.value\n",
    "    total_parameters += variable_parameters\n",
    "print(total_parameters)"
   ]
  },
  {
   "cell_type": "code",
   "execution_count": 4,
   "metadata": {},
   "outputs": [],
   "source": [
    "n_episodes = 1000000\n",
    "max_steps = 512\n",
    "batch_size = 3\n",
    "print_freq = 10\n",
    "\n",
    "ec = EnvController(lambda: gym.make('Breakout-v0'), n_threads=3)\n",
    "ec.set_obs_transform(lambda x: preprocess_atari(x.squeeze()))"
   ]
  },
  {
   "cell_type": "code",
   "execution_count": null,
   "metadata": {},
   "outputs": [
    {
     "name": "stdout",
     "output_type": "stream",
     "text": [
      "Avg Reward: 5.333333333333333\n",
      "(1445, 4)\n"
     ]
    }
   ],
   "source": [
    "for i in range(int(n_episodes / batch_size)):\n",
    "    ec.sim_episodes(network, batch_size, max_steps)\n",
    "    print(f'Avg Reward: {ec.get_avg_reward()}')\n",
    "    dat = ec.get_data()\n",
    "    print(dat.shape)\n",
    "    network.train(dat)"
   ]
  },
  {
   "cell_type": "code",
   "execution_count": null,
   "metadata": {},
   "outputs": [],
   "source": [
    "# Save the model\n",
    "saver = tf.train.Saver()\n",
    "saver.save(network.sess, 'models/breakout.ckpt')"
   ]
  }
 ],
 "metadata": {
  "kernelspec": {
   "display_name": "Python 3",
   "language": "python",
   "name": "python3"
  },
  "language_info": {
   "codemirror_mode": {
    "name": "ipython",
    "version": 3
   },
   "file_extension": ".py",
   "mimetype": "text/x-python",
   "name": "python",
   "nbconvert_exporter": "python",
   "pygments_lexer": "ipython3",
   "version": "3.6.8"
  }
 },
 "nbformat": 4,
 "nbformat_minor": 2
}
