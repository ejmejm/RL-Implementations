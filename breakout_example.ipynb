{
 "cells": [
  {
   "cell_type": "code",
   "execution_count": 1,
   "metadata": {},
   "outputs": [],
   "source": [
    "from memory import MemoryBuffer\n",
    "from policies import PPOTrainer\n",
    "import tensorflow as tf\n",
    "from tensorflow.layers import dense, conv2d, max_pooling2d, flatten\n",
    "from env_control import EnvController\n",
    "import numpy as np\n",
    "from utils import preprocess_atari\n",
    "import time\n",
    "import gym"
   ]
  },
  {
   "cell_type": "code",
   "execution_count": 2,
   "metadata": {},
   "outputs": [
    {
     "name": "stdout",
     "output_type": "stream",
     "text": [
      "INFO:tensorflow:Restoring parameters from models/breakout.ckpt\n",
      "No model found, randomly initializing parameters\n"
     ]
    }
   ],
   "source": [
    "# Pacman network\n",
    "\n",
    "model_name = 'breakout'\n",
    "env = gym.make('Breakout-v0')\n",
    "in_shape = [84, 84, 1]\n",
    "\n",
    "obs = tf.placeholder(tf.float32, shape=[None]+in_shape)\n",
<<<<<<< HEAD
    "conv1 = conv2d(obs, 8, 3, activation=tf.tanh)\n",
    "pool2 = max_pooling2d(conv1, 2, 2)\n",
    "conv2 = conv2d(pool2, 8, 3, activation=tf.tanh)\n",
    "pool3 = max_pooling2d(conv2, 2, 2)\n",
    "conv3 = conv2d(pool3, 8, 3, activation=tf.tanh)\n",
    "flattened = flatten(conv3)\n",
    "act_probs = dense(flattened, env.action_space.n)\n",
=======
    "conv1 = conv2d(obs, 16, 8, (4, 4), activation=tf.nn.relu)\n",
    "max_pool1 = max_pooling2d(conv1, 2, 2)\n",
    "conv2 = conv2d(max_pool1, 32, 4, (2, 2), activation=tf.nn.relu)\n",
    "max_pool2 = max_pooling2d(conv2, 2, 2)\n",
    "flattened = flatten(max_pool2)\n",
    "dense1 = dense(flattened, 256, activation=tf.nn.relu)\n",
    "act_probs = dense(dense1, env.action_space.n)\n",
>>>>>>> e5c789a28073bc3ec96a3ab070bf07a0eba60ccd
    "softmax_probs = tf.nn.softmax(act_probs)\n",
    "\n",
    "# v_conv1 = conv2d(obs, 16, 3, activation=tf.relu)\n",
    "# v_pool2 = max_pooling2d(v_conv1, 2, 2)\n",
    "# v_conv2 = conv2d(v_pool2, 16, 3, activation=tf.relu)\n",
    "# v_pool3 = max_pooling2d(v_conv2, 2, 2)\n",
    "# v_conv3 = conv2d(v_pool3, 16, 3, activation=tf.relu)\n",
    "# v_flattened = flatten(v_conv3)\n",
    "value = dense(dense1, 1)\n",
    "\n",
    "network = PPOTrainer(obs, softmax_probs, value, act_type='d', ppo_iters=80)\n",
    "\n",
    "# Load network if previously saved\n",
    "saver = tf.train.Saver()\n",
    "try:\n",
    "    saver.restore(network.sess, f'models/{model_name}.ckpt')\n",
    "except:\n",
    "    print('No model found, randomly initializing parameters')"
   ]
  },
  {
   "cell_type": "code",
   "execution_count": 3,
   "metadata": {},
   "outputs": [
    {
     "name": "stdout",
     "output_type": "stream",
     "text": [
<<<<<<< HEAD
      "7013\n"
=======
      "43573\n"
>>>>>>> e5c789a28073bc3ec96a3ab070bf07a0eba60ccd
     ]
    }
   ],
   "source": [
    "total_parameters = 0\n",
    "for variable in tf.trainable_variables():\n",
    "    # shape is an array of tf.Dimension\n",
    "    shape = variable.get_shape()\n",
    "    variable_parameters = 1\n",
    "    for dim in shape:\n",
    "        variable_parameters *= dim.value\n",
    "    total_parameters += variable_parameters\n",
    "print(total_parameters)"
   ]
  },
  {
   "cell_type": "code",
   "execution_count": 4,
   "metadata": {},
   "outputs": [],
   "source": [
    "n_episodes = 1000000\n",
<<<<<<< HEAD
    "max_steps = 512\n",
    "batch_size = 3\n",
    "print_freq = 10\n",
=======
    "max_steps = 4096\n",
    "batch_size = 32\n",
    "save_freq = 10\n",
>>>>>>> e5c789a28073bc3ec96a3ab070bf07a0eba60ccd
    "\n",
    "ec = EnvController(lambda: gym.make('Breakout-v0'), n_threads=4)\n",
    "ec.set_obs_transform(lambda x: preprocess_atari(x.squeeze()))"
   ]
  },
  {
   "cell_type": "code",
   "execution_count": 5,
   "metadata": {},
   "outputs": [
    {
     "name": "stdout",
     "output_type": "stream",
     "text": [
<<<<<<< HEAD
      "Avg Reward: 2.6666666666666665\n",
      "(1010, 4)\n",
      "Avg Reward: 1.0\n",
      "(726, 4)\n",
      "Avg Reward: 1.0\n",
      "(700, 4)\n",
      "Avg Reward: 1.0\n",
      "(689, 4)\n"
=======
      "Update #10, Avg Reward: 18.772727272727273\n",
      "Update #20, Avg Reward: 17.7375\n",
      "Update #30, Avg Reward: 17.575\n",
      "Update #40, Avg Reward: 16.565625\n",
      "Update #50, Avg Reward: 15.096875\n",
      "Update #60, Avg Reward: 15.984375\n",
      "Update #70, Avg Reward: 15.3\n",
      "Update #80, Avg Reward: 15.290625\n",
      "Update #90, Avg Reward: 15.11875\n",
      "Update #100, Avg Reward: 14.66875\n",
      "Update #110, Avg Reward: 14.634375\n",
      "Update #120, Avg Reward: 13.05\n",
      "Update #130, Avg Reward: 13.334375\n",
      "Update #140, Avg Reward: 12.734375\n",
      "Update #150, Avg Reward: 13.321875\n",
      "Update #160, Avg Reward: 15.471875\n",
      "Update #170, Avg Reward: 14.546875\n",
      "Update #180, Avg Reward: 14.359375\n",
      "Update #190, Avg Reward: 13.925\n",
      "Update #200, Avg Reward: 12.10625\n",
      "Update #210, Avg Reward: 12.43125\n"
     ]
    },
    {
     "name": "stderr",
     "output_type": "stream",
     "text": [
      "ERROR:root:Internal Python error in the inspect module.\n",
      "Below is the traceback from this internal error.\n",
      "\n"
     ]
    },
    {
     "name": "stdout",
     "output_type": "stream",
     "text": [
      "Traceback (most recent call last):\n",
      "  File \"/home/ejmejm/anaconda3/lib/python3.6/site-packages/IPython/core/interactiveshell.py\", line 3265, in run_code\n",
      "    exec(code_obj, self.user_global_ns, self.user_ns)\n",
      "  File \"<ipython-input-5-902573fb4793>\", line 7, in <module>\n",
      "    network.train(dat)\n",
      "  File \"/home/ejmejm/MLProjects/RL-Implementations/policies.py\", line 346, in update_func\n",
      "    self.advatange_holders: self.old_advantages})\n",
      "  File \"/home/ejmejm/anaconda3/lib/python3.6/site-packages/tensorflow/python/client/session.py\", line 929, in run\n",
      "    run_metadata_ptr)\n",
      "  File \"/home/ejmejm/anaconda3/lib/python3.6/site-packages/tensorflow/python/client/session.py\", line 1152, in _run\n",
      "    feed_dict_tensor, options, run_metadata)\n",
      "  File \"/home/ejmejm/anaconda3/lib/python3.6/site-packages/tensorflow/python/client/session.py\", line 1328, in _do_run\n",
      "    run_metadata)\n",
      "  File \"/home/ejmejm/anaconda3/lib/python3.6/site-packages/tensorflow/python/client/session.py\", line 1334, in _do_call\n",
      "    return fn(*args)\n",
      "  File \"/home/ejmejm/anaconda3/lib/python3.6/site-packages/tensorflow/python/client/session.py\", line 1319, in _run_fn\n",
      "    options, feed_dict, fetch_list, target_list, run_metadata)\n",
      "  File \"/home/ejmejm/anaconda3/lib/python3.6/site-packages/tensorflow/python/client/session.py\", line 1407, in _call_tf_sessionrun\n",
      "    run_metadata)\n",
      "KeyboardInterrupt\n",
      "\n",
      "During handling of the above exception, another exception occurred:\n",
      "\n",
      "Traceback (most recent call last):\n",
      "  File \"/home/ejmejm/anaconda3/lib/python3.6/site-packages/IPython/core/interactiveshell.py\", line 2016, in showtraceback\n",
      "    stb = value._render_traceback_()\n",
      "AttributeError: 'KeyboardInterrupt' object has no attribute '_render_traceback_'\n",
      "\n",
      "During handling of the above exception, another exception occurred:\n",
      "\n",
      "Traceback (most recent call last):\n",
      "  File \"/home/ejmejm/anaconda3/lib/python3.6/site-packages/IPython/core/ultratb.py\", line 1095, in get_records\n",
      "    return _fixed_getinnerframes(etb, number_of_lines_of_context, tb_offset)\n",
      "  File \"/home/ejmejm/anaconda3/lib/python3.6/site-packages/IPython/core/ultratb.py\", line 313, in wrapped\n",
      "    return f(*args, **kwargs)\n",
      "  File \"/home/ejmejm/anaconda3/lib/python3.6/site-packages/IPython/core/ultratb.py\", line 347, in _fixed_getinnerframes\n",
      "    records = fix_frame_records_filenames(inspect.getinnerframes(etb, context))\n",
      "  File \"/home/ejmejm/anaconda3/lib/python3.6/inspect.py\", line 1490, in getinnerframes\n",
      "    frameinfo = (tb.tb_frame,) + getframeinfo(tb, context)\n",
      "  File \"/home/ejmejm/anaconda3/lib/python3.6/inspect.py\", line 1448, in getframeinfo\n",
      "    filename = getsourcefile(frame) or getfile(frame)\n",
      "  File \"/home/ejmejm/anaconda3/lib/python3.6/inspect.py\", line 696, in getsourcefile\n",
      "    if getattr(getmodule(object, filename), '__loader__', None) is not None:\n",
      "  File \"/home/ejmejm/anaconda3/lib/python3.6/inspect.py\", line 739, in getmodule\n",
      "    f = getabsfile(module)\n",
      "  File \"/home/ejmejm/anaconda3/lib/python3.6/inspect.py\", line 708, in getabsfile\n",
      "    _filename = getsourcefile(object) or getfile(object)\n",
      "  File \"/home/ejmejm/anaconda3/lib/python3.6/inspect.py\", line 693, in getsourcefile\n",
      "    if os.path.exists(filename):\n",
      "  File \"/home/ejmejm/anaconda3/lib/python3.6/genericpath.py\", line 19, in exists\n",
      "    os.stat(path)\n",
      "KeyboardInterrupt\n"
     ]
    },
    {
     "ename": "KeyboardInterrupt",
     "evalue": "",
     "output_type": "error",
     "traceback": [
      "\u001b[0;31m---------------------------------------------------------------------------\u001b[0m"
>>>>>>> e5c789a28073bc3ec96a3ab070bf07a0eba60ccd
     ]
    }
   ],
   "source": [
    "update_rewards = []\n",
    "\n",
    "for i in range(int(n_episodes / batch_size)):\n",
    "    ec.sim_episodes(network, batch_size, max_steps)\n",
    "    update_rewards.append(ec.get_avg_reward())\n",
    "    dat = ec.get_data()\n",
    "    network.train(dat)\n",
    "    if i != 0 and i % save_freq == 0:\n",
    "        print(f'Update #{i}, Avg Reward: {np.mean(update_rewards)}')\n",
    "        # Save the model\n",
    "        saver = tf.train.Saver()\n",
    "        saver.save(network.sess, f'models/breakout_e{i}_r{np.mean(update_rewards)}.ckpt')\n",
    "        update_rewards = []"
   ]
  },
  {
   "cell_type": "code",
   "execution_count": 8,
   "metadata": {},
   "outputs": [],
   "source": [
    "ec.render_episodes(network, 100, max_steps)"
   ]
  },
  {
   "cell_type": "code",
   "execution_count": null,
   "metadata": {},
   "outputs": [],
   "source": [
    "# Save the model\n",
    "saver = tf.train.Saver()\n",
    "saver.save(network.sess, 'models/breakout.ckpt')"
   ]
  }
 ],
 "metadata": {
  "kernelspec": {
   "display_name": "Python 3",
   "language": "python",
   "name": "python3"
  },
  "language_info": {
   "codemirror_mode": {
    "name": "ipython",
    "version": 3
   },
   "file_extension": ".py",
   "mimetype": "text/x-python",
   "name": "python",
   "nbconvert_exporter": "python",
   "pygments_lexer": "ipython3",
   "version": "3.6.8"
  }
 },
 "nbformat": 4,
 "nbformat_minor": 2
}
