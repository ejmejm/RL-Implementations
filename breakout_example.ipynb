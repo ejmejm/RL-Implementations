{
 "cells": [
  {
   "cell_type": "code",
   "execution_count": 1,
   "metadata": {},
   "outputs": [],
   "source": [
    "from memory import MemoryBuffer\n",
    "from policies import PPOTrainer\n",
    "import tensorflow as tf\n",
    "from tensorflow.layers import dense, conv2d, max_pooling2d, flatten\n",
    "import numpy as np\n",
    "from utils import preprocess_atari\n",
    "import time\n",
    "import gym"
   ]
  },
  {
   "cell_type": "code",
   "execution_count": 2,
   "metadata": {},
   "outputs": [
    {
     "name": "stdout",
     "output_type": "stream",
     "text": [
      "INFO:tensorflow:Restoring parameters from models/breakout.ckpt\n"
     ]
    }
   ],
   "source": [
    "# Pacman network\n",
    "\n",
    "model_name = 'breakout'\n",
    "env = gym.make('Breakout-v0')\n",
    "in_shape = [64, 64, 1]\n",
    "\n",
    "obs = tf.placeholder(tf.float32, shape=[None]+in_shape)\n",
    "conv1 = conv2d(obs, 16, 3, activation=tf.tanh)\n",
    "pool2 = max_pooling2d(conv1, 2, 2)\n",
    "conv2 = conv2d(pool2, 16, 3, activation=tf.tanh)\n",
    "flattened = flatten(conv2)\n",
    "act_probs = dense(flattened, env.action_space.n)\n",
    "softmax_probs = tf.nn.softmax(act_probs)\n",
    "\n",
    "v_conv1 = conv2d(obs, 16, 3, activation=tf.tanh)\n",
    "v_pool2 = max_pooling2d(v_conv1, 2, 2)\n",
    "v_conv2 = conv2d(v_pool2, 16, 3, activation=tf.tanh)\n",
    "v_flattened = flatten(v_conv2)\n",
    "value = dense(v_flattened, 1)\n",
    "\n",
    "network = PPOTrainer(obs, softmax_probs, value, act_type='d', ppo_iters=80)\n",
    "\n",
    "# Load network if previously saved\n",
    "saver = tf.train.Saver()\n",
    "try:\n",
    "    saver.restore(network.sess, f'models/{model_name}.ckpt')\n",
    "except NotFoundError:\n",
    "    pass"
   ]
  },
  {
   "cell_type": "code",
   "execution_count": 3,
   "metadata": {},
   "outputs": [],
   "source": [
    "n_episodes = 1000000\n",
    "max_steps = 1024\n",
    "update_freq = 16\n",
    "print_freq = 1\n",
    "\n",
    "mb = MemoryBuffer()"
   ]
  },
  {
   "cell_type": "code",
   "execution_count": null,
   "metadata": {},
   "outputs": [
    {
     "name": "stdout",
     "output_type": "stream",
     "text": [
      "Update #1, Reward: 6.5625\n",
      "Update #2, Reward: 6.6875\n",
      "Update #3, Reward: 7.4375\n",
      "Update #4, Reward: 7.3125\n",
      "Update #5, Reward: 8.375\n",
      "Update #6, Reward: 7.125\n",
      "Update #7, Reward: 8.0625\n",
      "Update #8, Reward: 6.3125\n",
      "Update #9, Reward: 7.0625\n",
      "Update #10, Reward: 7.125\n",
      "Update #11, Reward: 7.875\n",
      "Update #12, Reward: 7.0\n",
      "Update #13, Reward: 7.8125\n",
      "Update #14, Reward: 7.0\n",
      "Update #15, Reward: 6.875\n",
      "Update #16, Reward: 7.5\n",
      "Update #17, Reward: 7.3125\n",
      "Update #18, Reward: 7.0\n",
      "Update #19, Reward: 6.5625\n",
      "Update #20, Reward: 4.0625\n",
      "Update #21, Reward: 4.0\n",
      "Update #22, Reward: 5.8125\n",
      "Update #23, Reward: 5.125\n",
      "Update #24, Reward: 5.375\n",
      "Update #25, Reward: 4.5\n",
      "Update #26, Reward: 4.9375\n",
      "Update #27, Reward: 5.125\n",
      "Update #28, Reward: 5.0625\n",
      "Update #29, Reward: 5.3125\n",
      "Update #30, Reward: 5.3125\n",
      "Update #31, Reward: 5.6875\n",
      "Update #32, Reward: 6.25\n",
      "Update #33, Reward: 6.625\n",
      "Update #34, Reward: 5.5625\n",
      "Update #35, Reward: 7.6875\n",
      "Update #36, Reward: 5.0625\n",
      "Update #37, Reward: 6.9375\n"
     ]
    }
   ],
   "source": [
    "all_rewards = []\n",
    "\n",
    "for episode in range(n_episodes):\n",
    "    ep_reward = 0\n",
    "    \n",
    "    mb.start_rollout()\n",
    "    obs = env.reset()\n",
    "    for step in range(max_steps):\n",
    "        obs = obs.squeeze()\n",
    "        obs = preprocess_atari(obs)\n",
    "        act = network.gen_act(obs)\n",
    "        \n",
    "        obs_next, rew, d, _ = env.step(act)\n",
    "        ep_reward += rew\n",
    "        \n",
    "        if False:\n",
    "            env.render()\n",
    "            time.sleep(0.02)\n",
    "        \n",
    "        mb.record(obs, act, rew)\n",
    "        obs = obs_next\n",
    "        \n",
    "        if d:\n",
    "            break\n",
    "            \n",
    "    all_rewards.append(ep_reward)\n",
    "            \n",
    "    if episode % update_freq == 0 and episode != 0:\n",
    "        network.train(mb.to_data())\n",
    "        \n",
    "        if episode % (update_freq * print_freq) == 0:\n",
    "            print(f'Update #{episode // update_freq}, Reward: {np.mean(all_rewards[-update_freq*print_freq:])}')"
   ]
  },
  {
   "cell_type": "code",
   "execution_count": null,
   "metadata": {},
   "outputs": [],
   "source": [
    "# Save the model\n",
    "saver = tf.train.Saver()\n",
    "saver.save(network.sess, 'models/breakout.ckpt')"
   ]
  }
 ],
 "metadata": {
  "kernelspec": {
   "display_name": "Python 3",
   "language": "python",
   "name": "python3"
  },
  "language_info": {
   "codemirror_mode": {
    "name": "ipython",
    "version": 3
   },
   "file_extension": ".py",
   "mimetype": "text/x-python",
   "name": "python",
   "nbconvert_exporter": "python",
   "pygments_lexer": "ipython3",
   "version": "3.6.6"
  }
 },
 "nbformat": 4,
 "nbformat_minor": 2
}
