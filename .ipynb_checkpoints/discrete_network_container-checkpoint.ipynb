{
 "cells": [
  {
   "cell_type": "code",
   "execution_count": 1,
   "metadata": {},
   "outputs": [],
   "source": [
    "import tensorflow as tf\n",
    "from tensorflow.layers import dense, flatten\n",
    "import gym\n",
    "import numpy as np\n",
    "from rewards import discount_rewards\n",
    "from memory import MemoryBuffer"
   ]
  },
  {
   "cell_type": "code",
   "execution_count": 7,
   "metadata": {},
   "outputs": [
    {
     "ename": "SyntaxError",
     "evalue": "invalid syntax (<ipython-input-7-2809fd14cdc3>, line 49)",
     "output_type": "error",
     "traceback": [
      "\u001b[0;36m  File \u001b[0;32m\"<ipython-input-7-2809fd14cdc3>\"\u001b[0;36m, line \u001b[0;32m49\u001b[0m\n\u001b[0;31m    update_func = lambda [obs, rewards, acts]: self.sess.run(self.update,\u001b[0m\n\u001b[0m                         ^\u001b[0m\n\u001b[0;31mSyntaxError\u001b[0m\u001b[0;31m:\u001b[0m invalid syntax\n"
     ]
    }
   ],
   "source": [
    "class RLNetwork():\n",
    "    def __init__(self, in_op, out_op, act_type='discrete', sess=None):\n",
    "        \"\"\"\n",
    "        Create a wrapper for RL networks for easy training.\n",
    "        Args:\n",
    "            in_op (tf.Placeholder): Observation input to architecture\n",
    "            out_op (tf.Variable): Action output of architecture\n",
    "            act_type (string): 'discrete' for a discrete actions space or 'continuous'\n",
    "                               for a continuous actions space\n",
    "            sess (tf.Session): A session if you would like to use a custom session,\n",
    "                               if left none it will be automatically created\n",
    "        \"\"\"\n",
    "\n",
    "        if not sess:\n",
    "            self.renew_sess()\n",
    "        \n",
    "        self.in_op = in_op\n",
    "        self.out_op = out_op\n",
    "        \n",
    "        if act_type in ('discrete', 'd'):\n",
    "            self.train = self._create_discrete_trainer()\n",
    "            self.act_type = 'discrete'\n",
    "        elif act_type == ('continuous', 'c'):\n",
    "            self.train = self._create_continuous_trainer()\n",
    "            self.act_type = 'continuous'\n",
    "        else:\n",
    "            raise('act_type must be \\'discrete\\' or \\'continuous\\'')\n",
    "        \n",
    "    def renew_sess(self):\n",
    "        self.sess = tf.Session()\n",
    "        self.sess.run(tf.global_variables_initializer())\n",
    "        \n",
    "    def end_sess(self):\n",
    "        self.sess.close()\n",
    "        \n",
    "    def _create_discrete_trainer(self, optimizer=tf.train.AdamOptimizer()):\n",
    "        self.act_holders = tf.placeholder(tf.int64, shape=[None])\n",
    "        self.reward_holders = tf.placeholder(tf.float64, shape=[None])\n",
    "        \n",
    "        self.act_masks = tf.one_hot(self.act_holders, self.out_op.shape[1].value, dtype=tf.float64)\n",
    "        self.log_probs = tf.log(self.out_op)\n",
    "        \n",
    "        self.resp_acts = tf.reduce_sum(self.act_masks *  self.log_probs, axis=1)\n",
    "        self.loss = -tf.reduce_mean(self.resp_acts * self.reward_holders)\n",
    "        \n",
    "        self.optimizer = optimizer\n",
    "        self.update = self.optimizer.minimize(self.loss)\n",
    "        \n",
    "        update_func = lambda train_data: self.sess.run(self.update, \n",
    "                                                       feed_dict={self.in_op: train_data[:, 0],\n",
    "                                                            self.act_holders: train_data[:, 1],\n",
    "                                                            self.reward_holders: train_data[:, 2]})\n",
    "        \n",
    "        return update_func\n",
    "        \n",
    "    def _create_continuous_trainer(self):\n",
    "        raise('Unimplemented')\n",
    "        \n",
    "    def _gen_discrete_act(self, obs):\n",
    "        act_probs = self.sess.run(self.out_op, feed_dict={self.in_op: obs})\n",
    "        act = np.random.choice(list(range(len(act_probs)+1)), p=act_probs[0])\n",
    "        \n",
    "        return act\n",
    "    \n",
    "    def _gen_continuous_act(self, obs):\n",
    "        raise('Unimplemented')\n",
    "        \n",
    "    def gen_act(self, obs):\n",
    "        if self.act_type == 'discrete':\n",
    "            return self._gen_discrete_act(obs)\n",
    "        else:\n",
    "            return self._gen_continuous_act(obs)\n",
    "        \n",
    "    def train(self, obs, rewards, acts):\n",
    "        raise('The train method was not properly created')"
   ]
  },
  {
   "cell_type": "code",
   "execution_count": 3,
   "metadata": {},
   "outputs": [],
   "source": [
    "def make_cart_pole():\n",
    "    return gym.make(\"CartPole-v1\")"
   ]
  },
  {
   "cell_type": "code",
   "execution_count": 4,
   "metadata": {},
   "outputs": [],
   "source": [
    "obs = tf.placeholder(tf.float64, shape=[None, 4])\n",
    "dense1 = dense(obs, 128, activation=tf.tanh)\n",
    "dense2 = dense(dense1, 128, activation=tf.tanh)\n",
    "act_probs = dense(dense2, 2)\n",
    "softmax_probs = tf.nn.softmax(act_probs)\n",
    "\n",
    "network = RLNetwork(obs, softmax_probs)"
   ]
  },
  {
   "cell_type": "code",
   "execution_count": 5,
   "metadata": {},
   "outputs": [
    {
     "name": "stderr",
     "output_type": "stream",
     "text": [
      "/home/ejmejm/anaconda3/lib/python3.6/site-packages/gym/envs/registration.py:14: PkgResourcesDeprecationWarning: Parameters to load are deprecated.  Call .resolve and .require separately.\n",
      "  result = entry_point.load(False)\n"
     ]
    }
   ],
   "source": [
    "n_episodes = 10000\n",
    "max_steps = 200\n",
    "update_freq = 200 # In episodes\n",
    "\n",
    "mb = MemoryBuffer(update_freq)\n",
    "env = make_cart_pole()"
   ]
  },
  {
   "cell_type": "code",
   "execution_count": 6,
   "metadata": {},
   "outputs": [
    {
     "name": "stdout",
     "output_type": "stream",
     "text": [
      "Recent Reward: 23.65\n",
      "Total Episodes: 100\n",
      "Total Steps: 2365\n",
      "\n",
      "-----------\n"
     ]
    },
    {
     "ename": "TypeError",
     "evalue": "<lambda>() missing 2 required positional arguments: 'rewards' and 'acts'",
     "output_type": "error",
     "traceback": [
      "\u001b[0;31m---------------------------------------------------------------------------\u001b[0m",
      "\u001b[0;31mTypeError\u001b[0m                                 Traceback (most recent call last)",
      "\u001b[0;32m<ipython-input-6-292f181e4202>\u001b[0m in \u001b[0;36m<module>\u001b[0;34m\u001b[0m\n\u001b[1;32m     34\u001b[0m \u001b[0;34m\u001b[0m\u001b[0m\n\u001b[1;32m     35\u001b[0m         \u001b[0mtrain_data\u001b[0m \u001b[0;34m=\u001b[0m \u001b[0mmb\u001b[0m\u001b[0;34m.\u001b[0m\u001b[0mto_data\u001b[0m\u001b[0;34m(\u001b[0m\u001b[0;34m)\u001b[0m\u001b[0;34m\u001b[0m\u001b[0;34m\u001b[0m\u001b[0m\n\u001b[0;32m---> 36\u001b[0;31m         \u001b[0mnetwork\u001b[0m\u001b[0;34m.\u001b[0m\u001b[0mtrain\u001b[0m\u001b[0;34m(\u001b[0m\u001b[0mtrain_data\u001b[0m\u001b[0;34m)\u001b[0m\u001b[0;34m\u001b[0m\u001b[0;34m\u001b[0m\u001b[0m\n\u001b[0m",
      "\u001b[0;31mTypeError\u001b[0m: <lambda>() missing 2 required positional arguments: 'rewards' and 'acts'"
     ]
    }
   ],
   "source": [
    "import time\n",
    "total_steps = 0\n",
    "total_episodes = 0\n",
    "all_rewards = []\n",
    "\n",
    "for episode in range(n_episodes):\n",
    "    obs = env.reset()\n",
    "    \n",
    "    episode_reward = 0\n",
    "    mb.start_rollout()\n",
    "    for step in range(max_steps):\n",
    "        act = network.gen_act([obs])\n",
    "\n",
    "        # env.render()\n",
    "        # time.sleep(0.02)\n",
    "        obs_next, rew, d, _ = env.step(act)\n",
    "        episode_reward += rew\n",
    "        \n",
    "        mb.record(obs, act, rew)\n",
    "        obs = obs_next\n",
    "        \n",
    "        total_steps += 1\n",
    "        if d:\n",
    "            break\n",
    "    # print(episode_reward)\n",
    "    all_rewards.append(episode_reward)\n",
    "    total_episodes += 1\n",
    "            \n",
    "    if total_episodes % 100 == 0:\n",
    "        print('Recent Reward:', np.mean(all_rewards[-100:]))\n",
    "        print('Total Episodes:', total_episodes)\n",
    "        print('Total Steps:', total_steps)\n",
    "        print('\\n-----------')\n",
    "        \n",
    "        train_data = mb.to_data()\n",
    "        network.train(train_data)"
   ]
  },
  {
   "cell_type": "code",
   "execution_count": null,
   "metadata": {},
   "outputs": [],
   "source": []
  }
 ],
 "metadata": {
  "kernelspec": {
   "display_name": "Python 3",
   "language": "python",
   "name": "python3"
  },
  "language_info": {
   "codemirror_mode": {
    "name": "ipython",
    "version": 3
   },
   "file_extension": ".py",
   "mimetype": "text/x-python",
   "name": "python",
   "nbconvert_exporter": "python",
   "pygments_lexer": "ipython3",
   "version": "3.6.8"
  }
 },
 "nbformat": 4,
 "nbformat_minor": 2
}
