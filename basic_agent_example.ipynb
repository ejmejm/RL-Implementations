{
 "cells": [
  {
   "cell_type": "code",
   "execution_count": 1,
   "metadata": {},
   "outputs": [],
   "source": [
    "from memory import MemoryBuffer\n",
    "from env import make_cart_pole, make_cart_pole_c, make_lunar_lander_c\n",
    "from policies import VAPGTrainer\n",
    "import tensorflow as tf\n",
    "from tensorflow.layers import dense\n",
    "from utils import reshape_train_var, gaussian_likelihood\n",
    "import numpy as np\n",
    "import time"
   ]
  },
  {
   "cell_type": "code",
   "execution_count": 2,
   "metadata": {},
   "outputs": [],
   "source": [
    "# Lunar lander continuous network\n",
    "\n",
    "env = make_lunar_lander_c()\n",
    "\n",
    "obs = tf.placeholder(tf.float32, shape=[None, env.observation_space.shape[0]])\n",
    "dense1 = dense(obs, 32, activation=tf.tanh)\n",
    "dense2 = dense(dense1, 32, activation=tf.tanh)\n",
    "act_probs = dense(dense2, env.action_space.shape[0])\n",
    "\n",
    "v_dense1 = dense(obs, 32, activation=tf.tanh)\n",
    "value = dense(v_dense1, 1)\n",
    "\n",
    "network = VAPGTrainer(obs, act_probs, value, act_type='c')"
   ]
  },
  {
   "cell_type": "code",
   "execution_count": 3,
   "metadata": {},
   "outputs": [],
   "source": [
    "# # Cart pole network\n",
    "\n",
    "# env = make_cart_pole()\n",
    "\n",
    "# obs = tf.placeholder(tf.float32, shape=[None, 4])\n",
    "# dense1 = dense(obs, 32, activation=tf.tanh)\n",
    "# dense2 = dense(dense1, 32, activation=tf.tanh)\n",
    "# act_probs = dense(dense2, 2)\n",
    "# softmax_probs = tf.nn.softmax(act_probs)\n",
    "\n",
    "# v_dense1 = dense(obs, 32, activation=tf.tanh)\n",
    "# v_dense2 = dense(v_dense1, 32, activation=tf.tanh)\n",
    "# value = dense(v_dense2, 1)\n",
    "\n",
    "# network = VAPGTrainer(obs, softmax_probs, value, act_type='d')"
   ]
  },
  {
   "cell_type": "code",
   "execution_count": 9,
   "metadata": {},
   "outputs": [],
   "source": [
    "n_episodes = 1000000\n",
    "max_steps = 300\n",
    "update_freq = 64\n",
    "print_freq = 5\n",
    "\n",
    "mb = MemoryBuffer()"
   ]
  },
  {
   "cell_type": "code",
   "execution_count": null,
   "metadata": {},
   "outputs": [],
   "source": [
    "all_rewards = []\n",
    "\n",
    "for episode in range(n_episodes):\n",
    "    ep_reward = 0\n",
    "    \n",
    "    mb.start_rollout()\n",
    "    obs = env.reset()\n",
    "    for step in range(max_steps):\n",
    "        obs = obs.squeeze()\n",
    "        act = network.gen_act(obs)\n",
    "        \n",
    "        obs_next, rew, d, _ = env.step(act)\n",
    "        ep_reward += rew\n",
    "        \n",
    "        if True:\n",
    "            env.render()\n",
    "            time.sleep(0.02)\n",
    "        \n",
    "        mb.record(obs, act, rew)\n",
    "        obs = obs_next\n",
    "        \n",
    "        if d:\n",
    "            break\n",
    "            \n",
    "    all_rewards.append(ep_reward)\n",
    "            \n",
    "    if episode % update_freq == 0 and episode != 0:\n",
    "        t = mb.to_data()\n",
    "        #print(t[:,0].shape)\n",
    "#         print(t.shape)\n",
    "        network.train(t)\n",
    "        \n",
    "        if episode % (update_freq * print_freq) == 0:\n",
    "            print(f'Update #{episode // update_freq}, Reward: {np.mean(all_rewards[-update_freq*print_freq:])}')\n",
    "        "
   ]
  },
  {
   "cell_type": "code",
   "execution_count": null,
   "metadata": {},
   "outputs": [],
   "source": []
  }
 ],
 "metadata": {
  "kernelspec": {
   "display_name": "Python 3",
   "language": "python",
   "name": "python3"
  },
  "language_info": {
   "codemirror_mode": {
    "name": "ipython",
    "version": 3
   },
   "file_extension": ".py",
   "mimetype": "text/x-python",
   "name": "python",
   "nbconvert_exporter": "python",
   "pygments_lexer": "ipython3",
   "version": "3.6.6"
  }
 },
 "nbformat": 4,
 "nbformat_minor": 2
}
