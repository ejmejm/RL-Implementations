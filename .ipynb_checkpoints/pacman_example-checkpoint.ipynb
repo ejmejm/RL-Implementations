{
 "cells": [
  {
   "cell_type": "code",
   "execution_count": 1,
   "metadata": {},
   "outputs": [],
   "source": [
    "from memory import MemoryBuffer\n",
    "from policies import PPOTrainer\n",
    "import tensorflow as tf\n",
    "from tensorflow.layers import dense, conv2d, max_pooling2d, flatten\n",
    "import numpy as np\n",
    "import time\n",
    "import gym"
   ]
  },
  {
   "cell_type": "code",
   "execution_count": 2,
   "metadata": {},
   "outputs": [
    {
     "name": "stderr",
     "output_type": "stream",
     "text": [
      "/home/ejmejm/anaconda3/lib/python3.6/site-packages/gym/envs/registration.py:14: PkgResourcesDeprecationWarning: Parameters to load are deprecated.  Call .resolve and .require separately.\n",
      "  result = entry_point.load(False)\n"
     ]
    }
   ],
   "source": [
    "# Pacman network\n",
    "\n",
    "env = gym.make('MsPacman-v0')\n",
    "\n",
    "obs = tf.placeholder(tf.float32, shape=[None]+list(env.observation_space.shape))\n",
    "pool1 = max_pooling2d(obs, 4, 4)\n",
    "conv1 = conv2d(pool1, 16, 5, activation=tf.tanh)\n",
    "pool2 = max_pooling2d(conv1, 2, 2)\n",
    "conv2 = conv2d(pool2, 16, 3, activation=tf.tanh)\n",
    "flattened = flatten(conv2)\n",
    "act_probs = dense(flattened, env.action_space.n)\n",
    "softmax_probs = tf.nn.softmax(act_probs)\n",
    "\n",
    "v_conv1 = conv2d(pool1, 16, 5, activation=tf.tanh)\n",
    "v_pool2 = max_pooling2d(v_conv1, 2, 2)\n",
    "v_conv2 = conv2d(v_pool2, 16, 3, activation=tf.tanh)\n",
    "v_flattened = flatten(v_conv2)\n",
    "value = dense(v_flattened, 1)\n",
    "\n",
    "network = PPOTrainer(obs, softmax_probs, value, act_type='d')"
   ]
  },
  {
   "cell_type": "code",
   "execution_count": 3,
   "metadata": {},
   "outputs": [],
   "source": [
    "n_episodes = 1000000\n",
    "max_steps = 200\n",
    "update_freq = 4\n",
    "print_freq = 1\n",
    "\n",
    "mb = MemoryBuffer()"
   ]
  },
  {
   "cell_type": "code",
   "execution_count": 5,
   "metadata": {},
   "outputs": [
    {
     "ename": "KeyboardInterrupt",
     "evalue": "",
     "output_type": "error",
     "traceback": [
      "\u001b[0;31m---------------------------------------------------------------------------\u001b[0m",
      "\u001b[0;31mKeyboardInterrupt\u001b[0m                         Traceback (most recent call last)",
      "\u001b[0;32m<ipython-input-5-755345792021>\u001b[0m in \u001b[0;36m<module>\u001b[0;34m\u001b[0m\n\u001b[1;32m     27\u001b[0m \u001b[0;34m\u001b[0m\u001b[0m\n\u001b[1;32m     28\u001b[0m     \u001b[0;32mif\u001b[0m \u001b[0mepisode\u001b[0m \u001b[0;34m%\u001b[0m \u001b[0mupdate_freq\u001b[0m \u001b[0;34m==\u001b[0m \u001b[0;36m0\u001b[0m \u001b[0;32mand\u001b[0m \u001b[0mepisode\u001b[0m \u001b[0;34m!=\u001b[0m \u001b[0;36m0\u001b[0m\u001b[0;34m:\u001b[0m\u001b[0;34m\u001b[0m\u001b[0;34m\u001b[0m\u001b[0m\n\u001b[0;32m---> 29\u001b[0;31m         \u001b[0mnetwork\u001b[0m\u001b[0;34m.\u001b[0m\u001b[0mtrain\u001b[0m\u001b[0;34m(\u001b[0m\u001b[0mmb\u001b[0m\u001b[0;34m.\u001b[0m\u001b[0mto_data\u001b[0m\u001b[0;34m(\u001b[0m\u001b[0;34m)\u001b[0m\u001b[0;34m)\u001b[0m\u001b[0;34m\u001b[0m\u001b[0;34m\u001b[0m\u001b[0m\n\u001b[0m\u001b[1;32m     30\u001b[0m \u001b[0;34m\u001b[0m\u001b[0m\n\u001b[1;32m     31\u001b[0m         \u001b[0;32mif\u001b[0m \u001b[0mepisode\u001b[0m \u001b[0;34m%\u001b[0m \u001b[0;34m(\u001b[0m\u001b[0mupdate_freq\u001b[0m \u001b[0;34m*\u001b[0m \u001b[0mprint_freq\u001b[0m\u001b[0;34m)\u001b[0m \u001b[0;34m==\u001b[0m \u001b[0;36m0\u001b[0m\u001b[0;34m:\u001b[0m\u001b[0;34m\u001b[0m\u001b[0;34m\u001b[0m\u001b[0m\n",
      "\u001b[0;32m~/MLProjects/RL-Implementations/policies.py\u001b[0m in \u001b[0;36mupdate_func\u001b[0;34m(train_data)\u001b[0m\n\u001b[1;32m    342\u001b[0m             \u001b[0;32mfor\u001b[0m \u001b[0mi\u001b[0m \u001b[0;32min\u001b[0m \u001b[0mrange\u001b[0m\u001b[0;34m(\u001b[0m\u001b[0mself\u001b[0m\u001b[0;34m.\u001b[0m\u001b[0mv_iters\u001b[0m\u001b[0;34m)\u001b[0m\u001b[0;34m:\u001b[0m\u001b[0;34m\u001b[0m\u001b[0;34m\u001b[0m\u001b[0m\n\u001b[1;32m    343\u001b[0m                 self.sess.run(self.value_update, \n\u001b[0;32m--> 344\u001b[0;31m                            feed_dict={self.in_op: reshape_train_var(train_data[:, 0]),\n\u001b[0m\u001b[1;32m    345\u001b[0m                                       self.reward_holders: train_data[:, 2]})\n\u001b[1;32m    346\u001b[0m \u001b[0;34m\u001b[0m\u001b[0m\n",
      "\u001b[0;32m~/MLProjects/RL-Implementations/utils.py\u001b[0m in \u001b[0;36mreshape_train_var\u001b[0;34m(var)\u001b[0m\n\u001b[1;32m      7\u001b[0m         \u001b[0;32mreturn\u001b[0m \u001b[0mvar\u001b[0m\u001b[0;34m\u001b[0m\u001b[0;34m\u001b[0m\u001b[0m\n\u001b[1;32m      8\u001b[0m     \u001b[0mn_samples\u001b[0m \u001b[0;34m=\u001b[0m \u001b[0mlen\u001b[0m\u001b[0;34m(\u001b[0m\u001b[0mvar\u001b[0m\u001b[0;34m)\u001b[0m\u001b[0;34m\u001b[0m\u001b[0;34m\u001b[0m\u001b[0m\n\u001b[0;32m----> 9\u001b[0;31m     \u001b[0mconcated\u001b[0m \u001b[0;34m=\u001b[0m \u001b[0mnp\u001b[0m\u001b[0;34m.\u001b[0m\u001b[0mconcatenate\u001b[0m\u001b[0;34m(\u001b[0m\u001b[0mvar\u001b[0m\u001b[0;34m)\u001b[0m\u001b[0;34m\u001b[0m\u001b[0;34m\u001b[0m\u001b[0m\n\u001b[0m\u001b[1;32m     10\u001b[0m     \u001b[0mreshaped\u001b[0m \u001b[0;34m=\u001b[0m \u001b[0mnp\u001b[0m\u001b[0;34m.\u001b[0m\u001b[0marray\u001b[0m\u001b[0;34m(\u001b[0m\u001b[0mconcated\u001b[0m\u001b[0;34m)\u001b[0m\u001b[0;34m.\u001b[0m\u001b[0mreshape\u001b[0m\u001b[0;34m(\u001b[0m\u001b[0;34m[\u001b[0m\u001b[0mn_samples\u001b[0m\u001b[0;34m]\u001b[0m \u001b[0;34m+\u001b[0m \u001b[0mlist\u001b[0m\u001b[0;34m(\u001b[0m\u001b[0mvar_shape\u001b[0m\u001b[0;34m)\u001b[0m\u001b[0;34m)\u001b[0m\u001b[0;34m\u001b[0m\u001b[0;34m\u001b[0m\u001b[0m\n\u001b[1;32m     11\u001b[0m     \u001b[0;32mreturn\u001b[0m \u001b[0mreshaped\u001b[0m\u001b[0;34m\u001b[0m\u001b[0;34m\u001b[0m\u001b[0m\n",
      "\u001b[0;31mKeyboardInterrupt\u001b[0m: "
     ]
    }
   ],
   "source": [
    "all_rewards = []\n",
    "\n",
    "for episode in range(n_episodes):\n",
    "    ep_reward = 0\n",
    "    \n",
    "    mb.start_rollout()\n",
    "    obs = env.reset()\n",
    "    for step in range(max_steps):\n",
    "        obs = obs.squeeze()\n",
    "        obs = obs / 255.\n",
    "        act = network.gen_act(obs)\n",
    "        \n",
    "        obs_next, rew, d, _ = env.step(act)\n",
    "        ep_reward += rew\n",
    "        \n",
    "        if False:\n",
    "            env.render()\n",
    "            time.sleep(0.02)\n",
    "        \n",
    "        mb.record(obs, act, rew)\n",
    "        obs = obs_next\n",
    "        \n",
    "        if d:\n",
    "            break\n",
    "            \n",
    "    all_rewards.append(ep_reward)\n",
    "            \n",
    "    if episode % update_freq == 0 and episode != 0:\n",
    "        network.train(mb.to_data())\n",
    "        \n",
    "        if episode % (update_freq * print_freq) == 0:\n",
    "            print(f'Update #{episode // update_freq}, Reward: {np.mean(all_rewards[-update_freq*print_freq:])}')"
   ]
  }
 ],
 "metadata": {
  "kernelspec": {
   "display_name": "Python 3",
   "language": "python",
   "name": "python3"
  },
  "language_info": {
   "codemirror_mode": {
    "name": "ipython",
    "version": 3
   },
   "file_extension": ".py",
   "mimetype": "text/x-python",
   "name": "python",
   "nbconvert_exporter": "python",
   "pygments_lexer": "ipython3",
   "version": "3.6.8"
  }
 },
 "nbformat": 4,
 "nbformat_minor": 2
}
