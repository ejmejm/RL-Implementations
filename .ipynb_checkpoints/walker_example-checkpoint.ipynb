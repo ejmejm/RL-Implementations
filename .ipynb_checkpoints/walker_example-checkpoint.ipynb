{
 "cells": [
  {
   "cell_type": "code",
   "execution_count": 1,
   "metadata": {},
   "outputs": [],
   "source": [
    "from memory import MemoryBuffer\n",
    "from policies import PPOTrainer\n",
    "import tensorflow as tf\n",
    "from tensorflow.layers import dense, conv2d, max_pooling2d, flatten\n",
    "import numpy as np\n",
    "import time\n",
    "import gym"
   ]
  },
  {
   "cell_type": "code",
   "execution_count": 2,
   "metadata": {},
   "outputs": [
    {
     "name": "stdout",
     "output_type": "stream",
     "text": [
      "\u001b[33mWARN: gym.spaces.Box autodetected dtype as <class 'numpy.float32'>. Please provide explicit dtype.\u001b[0m\n",
      "\u001b[33mWARN: gym.spaces.Box autodetected dtype as <class 'numpy.float32'>. Please provide explicit dtype.\u001b[0m\n"
     ]
    }
   ],
   "source": [
    "env = gym.make('BipedalWalker-v2')\n",
    "\n",
    "obs = tf.placeholder(tf.float32, shape=[None]+list(env.observation_space.shape))\n",
    "dense1 = dense(obs, 32, activation=tf.tanh)\n",
    "dense2 = dense(dense1, 32, activation=tf.tanh)\n",
    "act_probs = dense(dense2, env.action_space.shape[0])\n",
    "\n",
    "v_dense1 = dense(obs, 32, activation=tf.tanh)\n",
    "v_dense2 = dense(v_dense1, 32, activation=tf.tanh)\n",
    "value = dense(v_dense2, 1)\n",
    "\n",
    "network = PPOTrainer(obs, act_probs, value, act_type='c')"
   ]
  },
  {
   "cell_type": "code",
   "execution_count": 3,
   "metadata": {},
   "outputs": [],
   "source": [
    "n_episodes = 1000000\n",
    "max_steps = 200\n",
    "update_freq = 64\n",
    "print_freq = 5\n",
    "\n",
    "mb = MemoryBuffer()"
   ]
  },
  {
   "cell_type": "code",
   "execution_count": 4,
   "metadata": {},
   "outputs": [
    {
     "name": "stderr",
     "output_type": "stream",
     "text": [
      "ERROR:root:Internal Python error in the inspect module.\n",
      "Below is the traceback from this internal error.\n",
      "\n"
     ]
    },
    {
     "name": "stdout",
     "output_type": "stream",
     "text": [
      "Traceback (most recent call last):\n",
      "  File \"/home/ejmejm/anaconda3/lib/python3.6/site-packages/IPython/core/interactiveshell.py\", line 3265, in run_code\n",
      "    exec(code_obj, self.user_global_ns, self.user_ns)\n",
      "  File \"<ipython-input-4-8d72f70e5305>\", line 16, in <module>\n",
      "    env.render()\n",
      "  File \"/home/ejmejm/anaconda3/lib/python3.6/site-packages/gym/core.py\", line 275, in render\n",
      "    return self.env.render(mode, **kwargs)\n",
      "  File \"/home/ejmejm/anaconda3/lib/python3.6/site-packages/gym/envs/box2d/bipedal_walker.py\", line 482, in render\n",
      "    path = [trans*v for v in f.shape.vertices]\n",
      "  File \"/home/ejmejm/anaconda3/lib/python3.6/site-packages/Box2D/Box2D.py\", line 3038, in __get_vertices\n",
      "    return [tuple(self.vertex1), tuple(self.vertex2)]\n",
      "KeyboardInterrupt\n",
      "\n",
      "During handling of the above exception, another exception occurred:\n",
      "\n",
      "Traceback (most recent call last):\n",
      "  File \"/home/ejmejm/anaconda3/lib/python3.6/site-packages/IPython/core/interactiveshell.py\", line 2016, in showtraceback\n",
      "    stb = value._render_traceback_()\n",
      "AttributeError: 'KeyboardInterrupt' object has no attribute '_render_traceback_'\n",
      "\n",
      "During handling of the above exception, another exception occurred:\n",
      "\n",
      "Traceback (most recent call last):\n",
      "  File \"/home/ejmejm/anaconda3/lib/python3.6/site-packages/IPython/core/ultratb.py\", line 1095, in get_records\n",
      "    return _fixed_getinnerframes(etb, number_of_lines_of_context, tb_offset)\n",
      "  File \"/home/ejmejm/anaconda3/lib/python3.6/site-packages/IPython/core/ultratb.py\", line 313, in wrapped\n",
      "    return f(*args, **kwargs)\n",
      "  File \"/home/ejmejm/anaconda3/lib/python3.6/site-packages/IPython/core/ultratb.py\", line 347, in _fixed_getinnerframes\n",
      "    records = fix_frame_records_filenames(inspect.getinnerframes(etb, context))\n",
      "  File \"/home/ejmejm/anaconda3/lib/python3.6/inspect.py\", line 1483, in getinnerframes\n",
      "    frameinfo = (tb.tb_frame,) + getframeinfo(tb, context)\n",
      "  File \"/home/ejmejm/anaconda3/lib/python3.6/inspect.py\", line 1441, in getframeinfo\n",
      "    filename = getsourcefile(frame) or getfile(frame)\n",
      "  File \"/home/ejmejm/anaconda3/lib/python3.6/inspect.py\", line 696, in getsourcefile\n",
      "    if getattr(getmodule(object, filename), '__loader__', None) is not None:\n",
      "  File \"/home/ejmejm/anaconda3/lib/python3.6/inspect.py\", line 742, in getmodule\n",
      "    os.path.realpath(f)] = module.__name__\n",
      "  File \"/home/ejmejm/anaconda3/lib/python3.6/posixpath.py\", line 388, in realpath\n",
      "    path, ok = _joinrealpath(filename[:0], filename, {})\n",
      "  File \"/home/ejmejm/anaconda3/lib/python3.6/posixpath.py\", line 422, in _joinrealpath\n",
      "    if not islink(newpath):\n",
      "  File \"/home/ejmejm/anaconda3/lib/python3.6/posixpath.py\", line 171, in islink\n",
      "    st = os.lstat(path)\n",
      "KeyboardInterrupt\n"
     ]
    },
    {
     "ename": "KeyboardInterrupt",
     "evalue": "",
     "output_type": "error",
     "traceback": [
      "\u001b[0;31m---------------------------------------------------------------------------\u001b[0m"
     ]
    }
   ],
   "source": [
    "all_rewards = []\n",
    "\n",
    "for episode in range(n_episodes):\n",
    "    ep_reward = 0\n",
    "    \n",
    "    mb.start_rollout()\n",
    "    obs = env.reset()\n",
    "    for step in range(max_steps):\n",
    "        obs = obs.squeeze()\n",
    "        act = network.gen_act(obs)\n",
    "        \n",
    "        obs_next, rew, d, _ = env.step(act)\n",
    "        ep_reward += rew\n",
    "        \n",
    "        if False:\n",
    "            env.render()\n",
    "            time.sleep(0.02)\n",
    "        \n",
    "        mb.record(obs, act, rew)\n",
    "        obs = obs_next\n",
    "        \n",
    "        if d:\n",
    "            break\n",
    "            \n",
    "    all_rewards.append(ep_reward)\n",
    "            \n",
    "    if episode % update_freq == 0 and episode != 0:\n",
    "        network.train(mb.to_data())\n",
    "        \n",
    "        if episode % (update_freq * print_freq) == 0:\n",
    "            print(f'Update #{episode // update_freq}, Reward: {np.mean(all_rewards[-update_freq*print_freq:])}')"
   ]
  }
 ],
 "metadata": {
  "kernelspec": {
   "display_name": "Python 3",
   "language": "python",
   "name": "python3"
  },
  "language_info": {
   "codemirror_mode": {
    "name": "ipython",
    "version": 3
   },
   "file_extension": ".py",
   "mimetype": "text/x-python",
   "name": "python",
   "nbconvert_exporter": "python",
   "pygments_lexer": "ipython3",
   "version": "3.6.6"
  }
 },
 "nbformat": 4,
 "nbformat_minor": 2
}
