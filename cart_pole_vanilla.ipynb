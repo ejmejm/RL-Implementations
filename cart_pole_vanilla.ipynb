{
 "cells": [
  {
   "cell_type": "code",
   "execution_count": 1,
   "metadata": {},
   "outputs": [],
   "source": [
    "import tensorflow as tf\n",
    "from tensorflow.layers import dense, flatten\n",
    "import gym\n",
    "import numpy as np"
   ]
  },
  {
   "cell_type": "code",
   "execution_count": 2,
   "metadata": {},
   "outputs": [],
   "source": [
    "def make_cart_pole():\n",
    "    return gym.make(\"CartPole-v1\")\n",
    "\n",
    "def make_car_racing():\n",
    "    return gym.make('CarRacing-v0')\n",
    "\n",
    "def discount_rewards(rewards, gamma=0.99):\n",
    "    new_rewards = [rewards[-1]]\n",
    "    for i in reversed(range(len(rewards)-1)):\n",
    "        new_rewards.append(rewards[i] + gamma * new_rewards[-1])\n",
    "    return new_rewards[::-1]\n",
    "\n",
    "class MemoryBuffer():\n",
    "    def __init__(self, max_size):\n",
    "        self.max_size = max_size\n",
    "        self.rollouts = []\n",
    "        self.rollout_idx = -1\n",
    "    \n",
    "    def start_rollout(self):\n",
    "        self.rollout_idx = (self.rollout_idx + 1) % self.max_size\n",
    "        if self.rollout_idx >= len(self.rollouts):\n",
    "            self.rollouts.append([])\n",
    "        else:\n",
    "            self.rollouts[self.rollout_idx] = []\n",
    "            \n",
    "    def end_rollout(self):\n",
    "        self.start_rollout()\n",
    "    \n",
    "    def record(self, obs, act, rew):\n",
    "        self.rollouts[self.rollout_idx].append([obs, act, rew])\n",
    "        \n",
    "    def to_data(self, reset=True):\n",
    "        all_data = []\n",
    "        \n",
    "        try:\n",
    "            for rollout in self.rollouts:\n",
    "                rollout = np.array(rollout)\n",
    "                # Discount the rewards for every rollout\n",
    "                rollout[:,2] = discount_rewards(rollout[:,2])\n",
    "                all_data.extend(list(rollout))\n",
    "\n",
    "            if reset:\n",
    "                self.reset()\n",
    "        except IndexError:\n",
    "            return np.array([])\n",
    "            \n",
    "        return np.array(all_data)\n",
    "                \n",
    "    def reset(self):\n",
    "        self.rollouts = []\n",
    "        self.rollout_idx = -1"
   ]
  },
  {
   "cell_type": "code",
   "execution_count": 6,
   "metadata": {},
   "outputs": [],
   "source": [
    "class Network():\n",
    "    def __init__(self, obs_shape, act_space, sess=None):\n",
    "        self.obs_shape = obs_shape\n",
    "        self.act_space = act_space\n",
    "        self.sess = sess\n",
    "        \n",
    "        self.build_network()\n",
    "        \n",
    "    def build_network(self):\n",
    "        self.obs = tf.placeholder(tf.float64, shape=np.concatenate([[None], self.obs_shape]))\n",
    "        self.flatten = flatten(self.obs)\n",
    "        self.dense1 = dense(self.flatten, 128, activation=tf.tanh)\n",
    "        self.dense2 = dense(self.dense1, 128, activation=tf.tanh)\n",
    "        self.act_probs = dense(self.dense2, self.act_space)\n",
    "        self.softmax_probs = tf.nn.softmax(self.act_probs)\n",
    "        \n",
    "        self.actions = tf.placeholder(tf.int64, shape=[None])\n",
    "        self.rewards = tf.placeholder(tf.float64, shape=[None])\n",
    "        \n",
    "        self.action_masks = tf.one_hot(self.actions, self.act_space, dtype=tf.float64)\n",
    "        self.log_probs = tf.log(self.softmax_probs)\n",
    "        \n",
    "        self.resp_actions = tf.reduce_sum(self.action_masks *  self.log_probs, axis=1)\n",
    "        self.loss = -tf.reduce_mean(self.resp_actions * self.rewards)\n",
    "        \n",
    "        self.optimizer = tf.train.AdamOptimizer(learning_rate=0.001)\n",
    "        self.update = self.optimizer.minimize(self.loss)\n",
    "        \n",
    "    def build_training_ops(self):\n",
    "        self.actions = tf.placeholder(tf.int64, shape=[None])\n",
    "        self.rewards = tf.placeholder(tf.float64, shape=[None])\n",
    "        \n",
    "        self.action_masks = tf.one_hot(self.actions, self.act_space, dtype=tf.float64)\n",
    "        self.log_probs = tf.log(self.softmax_probs)\n",
    "        \n",
    "        self.resp_actions = tf.reduce_sum(self.action_masks *  self.log_probs, axis=1)\n",
    "        self.loss = -tf.reduce_mean(self.resp_actions * self.rewards)\n",
    "        \n",
    "        self.optimizer = tf.train.AdamOptimizer(learning_rate=0.001)\n",
    "        self.update = self.optimizer.minimize(self.loss)\n",
    "        \n",
    "    def set_network(self, obs, out):\n",
    "        self.obs = obs\n",
    "        self.out = out\n",
    "        \n",
    "        self.build_training_ops()\n",
    "        \n",
    "    def init_session(self):\n",
    "        self.sess = tf.Session()\n",
    "        self.sess.run(tf.global_variables_initializer())\n",
    "        self.sess.__enter__()\n",
    "        return self.sess\n",
    "    \n",
    "    def end_session(self):\n",
    "        if self.sess is not None:\n",
    "            self.sess.close()\n",
    "    \n",
    "    def choose_action(self, obs, sess=None):\n",
    "        if not sess:\n",
    "            if self.sess is not None:\n",
    "                sess = self.sess\n",
    "            else:\n",
    "                sess = tf.get_default_session()\n",
    "                assert sess is not None\n",
    "        \n",
    "        probs = sess.run(self.softmax_probs, feed_dict={self.obs: obs})\n",
    "        act = np.random.choice(list(range(len(probs)+1)), p=probs[0])\n",
    "        \n",
    "        return act\n",
    "    \n",
    "    def train(self, train_data, sess=None):\n",
    "        \"\"\"train_data: in the two-dimensional numpy array with the format, [obs, act, rew]\"\"\"\n",
    "        if not sess:\n",
    "            if self.sess is not None:\n",
    "                sess = self.sess\n",
    "            else:\n",
    "                sess = tf.get_default_session()\n",
    "                assert sess is not None\n",
    "        \n",
    "        sess.run([self.update], feed_dict={self.obs: np.vstack(train_data[:,0]),\n",
    "                                            self.actions: train_data[:,1],\n",
    "                                            self.rewards: train_data[:,2]})"
   ]
  },
  {
   "cell_type": "code",
   "execution_count": 7,
   "metadata": {},
   "outputs": [],
   "source": [
    "n_episodes = 10000\n",
    "max_steps = 200\n",
    "update_freq = 200 # In episodes"
   ]
  },
  {
   "cell_type": "code",
   "execution_count": 22,
   "metadata": {},
   "outputs": [
    {
     "name": "stderr",
     "output_type": "stream",
     "text": [
      "/home/ejmejm/anaconda3/lib/python3.6/site-packages/gym/envs/registration.py:14: PkgResourcesDeprecationWarning: Parameters to load are deprecated.  Call .resolve and .require separately.\n",
      "  result = entry_point.load(False)\n"
     ]
    }
   ],
   "source": [
    "mb = MemoryBuffer(update_freq)\n",
    "env = make_car_racing()\n",
    "if env.action_space.shape != ():\n",
    "    action_opts = env.action_space.shape[0]\n",
    "else:\n",
    "    action_opts = env.action_space.n\n",
    "network = Network(env.observation_space.shape, action_opts)\n",
    "network.init_session();"
   ]
  },
  {
   "cell_type": "code",
   "execution_count": 30,
   "metadata": {},
   "outputs": [
    {
     "data": {
      "text/plain": [
       "array([0.09762701, 0.71518934, 0.60276335], dtype=float32)"
      ]
     },
     "execution_count": 30,
     "metadata": {},
     "output_type": "execute_result"
    }
   ],
   "source": [
    "env.action_space.sample()"
   ]
  },
  {
   "cell_type": "code",
   "execution_count": 23,
   "metadata": {
    "scrolled": true
   },
   "outputs": [
    {
     "name": "stdout",
     "output_type": "stream",
     "text": [
      "Track generation: 1175..1473 -> 298-tiles track\n"
     ]
    },
    {
     "ename": "ValueError",
     "evalue": "a and p must have same size",
     "output_type": "error",
     "traceback": [
      "\u001b[0;31m---------------------------------------------------------------------------\u001b[0m",
      "\u001b[0;31mValueError\u001b[0m                                Traceback (most recent call last)",
      "\u001b[0;32m<ipython-input-23-884f7e802e61>\u001b[0m in \u001b[0;36m<module>\u001b[0;34m\u001b[0m\n\u001b[1;32m     10\u001b[0m     \u001b[0mmb\u001b[0m\u001b[0;34m.\u001b[0m\u001b[0mstart_rollout\u001b[0m\u001b[0;34m(\u001b[0m\u001b[0;34m)\u001b[0m\u001b[0;34m\u001b[0m\u001b[0;34m\u001b[0m\u001b[0m\n\u001b[1;32m     11\u001b[0m     \u001b[0;32mfor\u001b[0m \u001b[0mstep\u001b[0m \u001b[0;32min\u001b[0m \u001b[0mrange\u001b[0m\u001b[0;34m(\u001b[0m\u001b[0mmax_steps\u001b[0m\u001b[0;34m)\u001b[0m\u001b[0;34m:\u001b[0m\u001b[0;34m\u001b[0m\u001b[0;34m\u001b[0m\u001b[0m\n\u001b[0;32m---> 12\u001b[0;31m         \u001b[0mact\u001b[0m \u001b[0;34m=\u001b[0m \u001b[0mnetwork\u001b[0m\u001b[0;34m.\u001b[0m\u001b[0mchoose_action\u001b[0m\u001b[0;34m(\u001b[0m\u001b[0;34m[\u001b[0m\u001b[0mobs\u001b[0m\u001b[0;34m]\u001b[0m\u001b[0;34m)\u001b[0m\u001b[0;34m\u001b[0m\u001b[0;34m\u001b[0m\u001b[0m\n\u001b[0m\u001b[1;32m     13\u001b[0m \u001b[0;34m\u001b[0m\u001b[0m\n\u001b[1;32m     14\u001b[0m         \u001b[0menv\u001b[0m\u001b[0;34m.\u001b[0m\u001b[0mrender\u001b[0m\u001b[0;34m(\u001b[0m\u001b[0;34m)\u001b[0m\u001b[0;34m\u001b[0m\u001b[0;34m\u001b[0m\u001b[0m\n",
      "\u001b[0;32m<ipython-input-6-5c7201490bc0>\u001b[0m in \u001b[0;36mchoose_action\u001b[0;34m(self, obs, sess)\u001b[0m\n\u001b[1;32m     46\u001b[0m \u001b[0;34m\u001b[0m\u001b[0m\n\u001b[1;32m     47\u001b[0m         \u001b[0mprobs\u001b[0m \u001b[0;34m=\u001b[0m \u001b[0msess\u001b[0m\u001b[0;34m.\u001b[0m\u001b[0mrun\u001b[0m\u001b[0;34m(\u001b[0m\u001b[0mself\u001b[0m\u001b[0;34m.\u001b[0m\u001b[0msoftmax_probs\u001b[0m\u001b[0;34m,\u001b[0m \u001b[0mfeed_dict\u001b[0m\u001b[0;34m=\u001b[0m\u001b[0;34m{\u001b[0m\u001b[0mself\u001b[0m\u001b[0;34m.\u001b[0m\u001b[0mobs\u001b[0m\u001b[0;34m:\u001b[0m \u001b[0mobs\u001b[0m\u001b[0;34m}\u001b[0m\u001b[0;34m)\u001b[0m\u001b[0;34m\u001b[0m\u001b[0;34m\u001b[0m\u001b[0m\n\u001b[0;32m---> 48\u001b[0;31m         \u001b[0mact\u001b[0m \u001b[0;34m=\u001b[0m \u001b[0mnp\u001b[0m\u001b[0;34m.\u001b[0m\u001b[0mrandom\u001b[0m\u001b[0;34m.\u001b[0m\u001b[0mchoice\u001b[0m\u001b[0;34m(\u001b[0m\u001b[0mlist\u001b[0m\u001b[0;34m(\u001b[0m\u001b[0mrange\u001b[0m\u001b[0;34m(\u001b[0m\u001b[0mlen\u001b[0m\u001b[0;34m(\u001b[0m\u001b[0mprobs\u001b[0m\u001b[0;34m)\u001b[0m\u001b[0;34m+\u001b[0m\u001b[0;36m1\u001b[0m\u001b[0;34m)\u001b[0m\u001b[0;34m)\u001b[0m\u001b[0;34m,\u001b[0m \u001b[0mp\u001b[0m\u001b[0;34m=\u001b[0m\u001b[0mprobs\u001b[0m\u001b[0;34m[\u001b[0m\u001b[0;36m0\u001b[0m\u001b[0;34m]\u001b[0m\u001b[0;34m)\u001b[0m\u001b[0;34m\u001b[0m\u001b[0;34m\u001b[0m\u001b[0m\n\u001b[0m\u001b[1;32m     49\u001b[0m \u001b[0;34m\u001b[0m\u001b[0m\n\u001b[1;32m     50\u001b[0m         \u001b[0;32mreturn\u001b[0m \u001b[0mact\u001b[0m\u001b[0;34m\u001b[0m\u001b[0;34m\u001b[0m\u001b[0m\n",
      "\u001b[0;32mmtrand.pyx\u001b[0m in \u001b[0;36mmtrand.RandomState.choice\u001b[0;34m()\u001b[0m\n",
      "\u001b[0;31mValueError\u001b[0m: a and p must have same size"
     ]
    }
   ],
   "source": [
    "import time\n",
    "total_steps = 0\n",
    "total_episodes = 0\n",
    "all_rewards = []\n",
    "\n",
    "for episode in range(n_episodes):\n",
    "    obs = env.reset()\n",
    "    \n",
    "    episode_reward = 0\n",
    "    mb.start_rollout()\n",
    "    for step in range(max_steps):\n",
    "        act = network.choose_action([obs])\n",
    "\n",
    "        env.render()\n",
    "        time.sleep(0.02)\n",
    "        obs_next, rew, d, _ = env.step(act)\n",
    "        episode_reward += rew\n",
    "        \n",
    "        mb.record(obs, act, rew)\n",
    "        obs = obs_next\n",
    "        \n",
    "        total_steps += 1\n",
    "        if d:\n",
    "            break\n",
    "    # print(episode_reward)\n",
    "    all_rewards.append(episode_reward)\n",
    "    total_episodes += 1\n",
    "            \n",
    "    if total_episodes % 100 == 0:\n",
    "        print('Recent Reward:', np.mean(all_rewards[-100:]))\n",
    "        print('Total Episodes:', total_episodes)\n",
    "        print('Total Steps:', total_steps)\n",
    "        print('\\n-----------')\n",
    "        \n",
    "        train_data = mb.to_data()\n",
    "        network.train(train_data)"
   ]
  },
  {
   "cell_type": "code",
   "execution_count": null,
   "metadata": {},
   "outputs": [],
   "source": [
    "network.end_session()"
   ]
  },
  {
   "cell_type": "code",
   "execution_count": null,
   "metadata": {},
   "outputs": [],
   "source": [
    "mb.to_data().shape"
   ]
  }
 ],
 "metadata": {
  "kernelspec": {
   "display_name": "Python 3",
   "language": "python",
   "name": "python3"
  },
  "language_info": {
   "codemirror_mode": {
    "name": "ipython",
    "version": 3
   },
   "file_extension": ".py",
   "mimetype": "text/x-python",
   "name": "python",
   "nbconvert_exporter": "python",
   "pygments_lexer": "ipython3",
   "version": "3.6.8"
  }
 },
 "nbformat": 4,
 "nbformat_minor": 2
}
